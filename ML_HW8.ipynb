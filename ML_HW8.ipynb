{
  "cells": [
    {
      "cell_type": "markdown",
      "metadata": {
        "id": "view-in-github",
        "colab_type": "text"
      },
      "source": [
        "<a href=\"https://colab.research.google.com/github/Crazytiger0527/ML_4_1/blob/main/ML_HW8.ipynb\" target=\"_parent\"><img src=\"https://colab.research.google.com/assets/colab-badge.svg\" alt=\"Open In Colab\"/></a>"
      ]
    },
    {
      "cell_type": "code",
      "execution_count": null,
      "metadata": {
        "colab": {
          "base_uri": "https://localhost:8080/"
        },
        "id": "DG2JWX2ts9TD",
        "outputId": "b97a760d-edb5-46d8-8690-20645e062032"
      },
      "outputs": [
        {
          "name": "stdout",
          "output_type": "stream",
          "text": [
            "Ultralytics YOLOv8.2.24 🚀 Python-3.10.12 torch-2.3.0+cu121 CUDA:0 (Tesla T4, 15102MiB)\n",
            "Setup complete ✅ (2 CPUs, 12.7 GB RAM, 29.9/78.2 GB disk)\n"
          ]
        }
      ],
      "source": [
        "%pip install ultralytics\n",
        "import ultralytics\n",
        "ultralytics.checks()"
      ]
    },
    {
      "cell_type": "code",
      "execution_count": null,
      "metadata": {
        "id": "BXR98s26tsn7"
      },
      "outputs": [],
      "source": [
        "# ultralytics 라이브러리에서 YOLO 클래스를 임포트\n",
        "from ultralytics import YOLO\n",
        "\n",
        "# YOLO 모델 로드 (기본 YOLOv8 모델을 사용)\n",
        "model = YOLO('yolov8n.pt')  # yolov8n, yolov8s, yolov8m, yolov8l, yolov8x 중 하나 선택\n",
        "\n",
        "# 훈련에 사용할 데이터셋의 구성 파일 경로를 지정. Roboflow에서 YOLOv8 Format으로 Export하였기 때문에 바로 사용이 가능하다.\n",
        "data_yaml_path = '/content/drive/MyDrive/Pokemon Detection.v1i.yolov8/data.yaml'\n",
        "\n",
        "# 모델을 훈련 각 파라미터는 다음과 같다.\n",
        "# data: 데이터셋 구성 파일 경로\n",
        "#\tepochs: 훈련할 에포크 수\n",
        "#\timgsz: 입력 이미지의 크기\n",
        "#\tbatch: 배치 크기\n",
        "#\tname: 훈련된 모델의 이름\n",
        "model.train(data=data_yaml_path, epochs=100, imgsz=640, batch=16, name='custom_yolov8')\n",
        "\n",
        "# 모델 평가 및 출력\n",
        "results = model.val(data=data_yaml_path)\n",
        "print(results)\n"
      ]
    },
    {
      "cell_type": "code",
      "execution_count": null,
      "metadata": {
        "id": "CSj6rkVOozPu"
      },
      "outputs": [],
      "source": [
        "from ultralytics import YOLO\n",
        "import cv2\n",
        "import os\n",
        "from matplotlib import pyplot as plt\n",
        "\n",
        "# 훈련된 모델 가중치 가져오기\n",
        "model = YOLO('/content/runs/detect/custom_yolov82/weights/best.pt')\n",
        "\n",
        "# 테스트 이미지 경로 설정 및 결과 저장 폴더 지정\n",
        "test_images_path = '/content/drive/MyDrive/Pokemon Detection.v1i.yolov8/test/images'\n",
        "output_dir = 'test_predictions'\n",
        "os.makedirs(output_dir, exist_ok=True)\n",
        "\n",
        "# 테스트 이미지 로드\n",
        "test_images = [os.path.join(test_images_path, img) for img in os.listdir(test_images_path) if img.endswith(('.png', '.jpg', '.jpeg'))]\n",
        "\n",
        "# 전체 결과 저장 리스트 초기화\n",
        "all_results = []\n",
        "\n",
        "# 테스트 이미지 각각에 대해 예측을 수행하고, 예측 결과를 시각화하여 저장\n",
        "for img_path in test_images:\n",
        "    img = cv2.imread(img_path)  # 이미지 로드\n",
        "    results = model.predict(img_path, save=False)  # 모델로 예측 수행\n",
        "    annotated_img = results[0].plot()  # 예측 결과 시각화\n",
        "\n",
        "    # 결과 저장\n",
        "    output_img_path = os.path.join(output_dir, os.path.basename(img_path))  # 결과 이미지 저장 경로 설정\n",
        "    cv2.imwrite(output_img_path, annotated_img)  # 결과 이미지 저장\n",
        "\n",
        "    # 결과 저장 (전체 결과 리스트에 추가)\n",
        "    all_results.append((os.path.basename(img_path), results[0]))\n",
        "\n",
        "    # 결과 출력\n",
        "    plt.figure(figsize=(10, 10))  # 출력 이미지 크기 설정\n",
        "    plt.imshow(cv2.cvtColor(annotated_img, cv2.COLOR_BGR2RGB))  # BGR을 RGB로 변환하여 출력\n",
        "    plt.title(f'Predictions for {os.path.basename(img_path)}')  # 이미지 제목 설정\n",
        "    plt.axis('off')  # 축 제거\n",
        "    plt.show()  # 이미지 출력\n",
        "\n",
        "# 테스트 데이터셋 평가\n",
        "# 전체 테스트 데이터셋에 대해 모델 성능을 평가\n",
        "results = model.val(data='/content/drive/MyDrive/Pokemon Detection.v1i.yolov8/data.yaml', split='test')\n",
        "print(results)  # 평가 결과 출력"
      ]
    },
    {
      "cell_type": "code",
      "execution_count": null,
      "metadata": {
        "id": "zChMAb7E5LuI"
      },
      "outputs": [],
      "source": [
        "from ultralytics import YOLO\n",
        "import cv2\n",
        "import os\n",
        "\n",
        "# YOLO 모델 로드 (학습된 모델 사용)\n",
        "model = YOLO('/content/runs/detect/custom_yolov8/weights/best.pt')  # 훈련된 모델 경로로 변경\n",
        "\n",
        "# 동영상 파일 경로\n",
        "input_video_path = '/content/drive/MyDrive/Pokemon Detection.v1i.yolov8/ddddddd.mp4'  # 입력 동영상 파일 경로\n",
        "output_video_path = '/content/drive/MyDrive/Pokemon Detection.v1i.yolov8/output_video_with_tracking.mp4'  # 출력 동영상 파일 경로\n",
        "\n",
        "# 동영상 파일 열기\n",
        "cap = cv2.VideoCapture(input_video_path)\n",
        "\n",
        "# 비디오 작성자 초기화\n",
        "fourcc = cv2.VideoWriter_fourcc(*'mp4v')  # 출력 동영상의 코덱 설정\n",
        "out = None  # 비디오 작성자 초기화\n",
        "\n",
        "# 프레임 처리\n",
        "while cap.isOpened():  # 비디오 캡처가 열려있는 동안 반복\n",
        "    ret, frame = cap.read()  # 한 프레임을 읽음\n",
        "    if not ret:  # 프레임을 더 이상 읽을 수 없으면 반복 종료\n",
        "        break\n",
        "\n",
        "    # 객체 감지\n",
        "    results = model.predict(frame, save=False)  # 모델을 사용하여 객체를 감지\n",
        "    annotated_frame = results[0].plot()  # 예측 결과를 시각화하여 프레임에 그리기\n",
        "\n",
        "    # 비디오 작성자 초기화 (첫 프레임에서)\n",
        "    if out is None:  # 첫 번째 프레임에서만 초기화\n",
        "        height, width, layers = annotated_frame.shape  # 프레임의 크기 가져오기\n",
        "        out = cv2.VideoWriter(output_video_path, fourcc, 30, (width, height))  # 비디오 작성자 설정\n",
        "\n",
        "    # 결과 프레임 저장\n",
        "    out.write(annotated_frame)  # 주석이 추가된 프레임을 출력 동영상에 저장\n",
        "\n",
        "# 자원 해제\n",
        "cap.release()  # 비디오 캡처 자원 해제\n",
        "out.release()  # 비디오 작성자 자원 해제\n",
        "\n",
        "print(f'Output video saved to {output_video_path}')  # 출력 동영상 저장 경로 출력\n"
      ]
    }
  ],
  "metadata": {
    "accelerator": "GPU",
    "colab": {
      "gpuType": "T4",
      "provenance": [],
      "mount_file_id": "1pUuXf_LwBKknrSIoPZVtx7myrONool5y",
      "authorship_tag": "ABX9TyN8cH/wgXEafx2nRBrL8LHX",
      "include_colab_link": true
    },
    "kernelspec": {
      "display_name": "Python 3",
      "name": "python3"
    },
    "language_info": {
      "name": "python"
    }
  },
  "nbformat": 4,
  "nbformat_minor": 0
}